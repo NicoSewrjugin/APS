{
 "cells": [
  {
   "cell_type": "markdown",
   "metadata": {},
   "source": [
    "<img src=\"./logo_UNSAM.jpg\" align=\"right\" width=\"250\" /> \n",
    "\n",
    "#### Análisis y Procesamiento de Señales\n",
    "\n",
    "# Trabajo Práctico Nº7\n",
    "#### Nicolás Sewrjugin y Sofía Gervasi\n"
   ]
  }
 ],
 "metadata": {
  "kernelspec": {
   "display_name": "Python 3 (ipykernel)",
   "language": "python",
   "name": "python3"
  },
  "language_info": {
   "codemirror_mode": {
    "name": "ipython",
    "version": 3
   },
   "file_extension": ".py",
   "mimetype": "text/x-python",
   "name": "python",
   "nbconvert_exporter": "python",
   "pygments_lexer": "ipython3",
   "version": "3.13.2"
  }
 },
 "nbformat": 4,
 "nbformat_minor": 4
}
